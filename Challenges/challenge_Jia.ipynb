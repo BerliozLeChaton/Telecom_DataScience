{
 "cells": [
  {
   "cell_type": "code",
   "execution_count": 1,
   "metadata": {
    "collapsed": false
   },
   "outputs": [],
   "source": [
    "%matplotlib inline\n",
    "import numpy as np\n",
    "import matplotlib.pyplot as plt\n",
    "import pandas as pd"
   ]
  },
  {
   "cell_type": "code",
   "execution_count": 2,
   "metadata": {
    "collapsed": true
   },
   "outputs": [],
   "source": [
    "# Critere de performance\n",
    "def compute_pred_score(y_true, y_pred):\n",
    "    y_pred_unq =  np.unique(y_pred)\n",
    "    for i in y_pred_unq:\n",
    "        if((i != -1) & (i!= 1) & (i!= 0) ):\n",
    "            raise ValueError('The predictions can contain only -1, 1, or 0!')\n",
    "    y_comp = y_true * y_pred\n",
    "    score = float(10*np.sum(y_comp == -1) + np.sum(y_comp == 0))\n",
    "    score /= y_comp.shape[0]\n",
    "    return score\n"
   ]
  },
  {
   "cell_type": "code",
   "execution_count": 3,
   "metadata": {
    "collapsed": true
   },
   "outputs": [],
   "source": [
    "X_train_fname = 'training_templates.csv'\n",
    "y_train_fname = 'training_labels.txt'\n",
    "X_test_fname  = 'testing_templates.csv'\n",
    "X_train = pd.read_csv(X_train_fname, sep=',', header=None).values\n",
    "X_test  = pd.read_csv(X_test_fname,  sep=',', header=None).values\n",
    "y_train = np.loadtxt(y_train_fname, dtype=np.int)"
   ]
  },
  {
   "cell_type": "code",
   "execution_count": 4,
   "metadata": {
    "collapsed": false
   },
   "outputs": [],
   "source": [
    "#import\n",
    "\n",
    "import time\n",
    "from sklearn.linear_model import LogisticRegression\n",
    "from sklearn.metrics import roc_auc_score\n",
    "from sklearn.tree import DecisionTreeClassifier, DecisionTreeRegressor\n",
    "from sklearn.ensemble import RandomForestClassifier, RandomForestRegressor, AdaBoostClassifier\n",
    "#from sklearn.model_selection import cross_val_score\n",
    "from sklearn.ensemble import ExtraTreesClassifier\n",
    "from sklearn.ensemble import BaggingRegressor, BaggingClassifier\n",
    "from sklearn import preprocessing \n",
    "#from sklearn.neural_network import MLPClassifier\n",
    "from sklearn.preprocessing import PolynomialFeatures\n",
    "from sklearn import linear_model\n",
    "from sklearn.discriminant_analysis import QuadraticDiscriminantAnalysis, LinearDiscriminantAnalysis\n",
    "from sklearn.multiclass import OutputCodeClassifier\n",
    "from sklearn.svm import LinearSVC\n",
    "from sklearn.neighbors import KNeighborsClassifier"
   ]
  },
  {
   "cell_type": "code",
   "execution_count": 5,
   "metadata": {
    "collapsed": false
   },
   "outputs": [],
   "source": [
    "def score_Classifier(classif):\n",
    "    # RF fitting\n",
    "    clf = classif\n",
    "    clf.fit(X_train, y_train)\n",
    "\n",
    "    # Prediction\n",
    "    y_pred_train =  clf.predict(X_train)\n",
    "    y_pred = clf.predict(X_test)\n",
    "\n",
    "    # Compute the score\n",
    "    score = compute_pred_score(y_train, y_pred_train)\n",
    "    print('Score sur le train : %s' % score)\n",
    "\n",
    "    #scores_val = cross_val_score(clf, X_train, y_train)\n",
    "    #print'Cross_val score : %s' % scores_val.mean() \n",
    "    \n",
    "    return y_pred"
   ]
  },
  {
   "cell_type": "code",
   "execution_count": 11,
   "metadata": {
    "collapsed": false,
    "scrolled": true
   },
   "outputs": [
    {
     "name": "stdout",
     "output_type": "stream",
     "text": [
      "Score sur le train : 0.474526515152\n",
      "Cross_val score : 0.943020833333\n",
      "Score sur le train : 0.474147727273\n",
      "Cross_val score : 0.936060606061\n",
      "Score sur le train : 0.471117424242\n",
      "Cross_val score : 0.942130681818\n",
      "Score sur le train : 0.475473484848\n",
      "Cross_val score : 0.935246212121\n",
      "Score sur le train : 0.475284090909\n",
      "Cross_val score : 0.93665719697\n",
      "Score sur le train : 0.472727272727\n",
      "Cross_val score : 0.939261363636\n",
      "Time : 177.71326685\n"
     ]
    }
   ],
   "source": [
    "#MLP Classifier\n",
    "start = time.time()\n",
    "\n",
    "Y_PRED = [0]*8496\n",
    "for alpha in [0.1, 0.3, 0.5, 0.7, 0.9, 1.1]:\n",
    "    y_pred = score_Classifier(MLPClassifier(solver='lbfgs', alpha=alpha, hidden_layer_sizes=(5, 2), random_state=1))\n",
    "    Y_PRED = np.add(Y_PRED, y_pred)\n",
    "\n",
    "elapsed = (time.time() - start)\n",
    "print('Time : %s' % elapsed)"
   ]
  },
  {
   "cell_type": "code",
   "execution_count": 12,
   "metadata": {
    "collapsed": false
   },
   "outputs": [],
   "source": [
    "for i in range(8496):\n",
    "    if Y_PRED[i] == 6 or Y_PRED[i] == -6:\n",
    "        Y_PRED[i] = Y_PRED[i]/6\n",
    "    else:\n",
    "        Y_PRED[i] = 0"
   ]
  },
  {
   "cell_type": "code",
   "execution_count": 12,
   "metadata": {
    "collapsed": false
   },
   "outputs": [
    {
     "name": "stdout",
     "output_type": "stream",
     "text": [
      "Score sur le train : 0.566477272727\n",
      "Cross_val score : 0.9321875\n",
      "Score sur le train : 0.566856060606\n",
      "Cross_val score : 0.9321875\n",
      "Score sur le train : 0.566098484848\n",
      "Cross_val score : 0.9321875\n",
      "Score sur le train : 0.564678030303\n",
      "Cross_val score : 0.9321875\n",
      "Score sur le train : 0.566571969697\n",
      "Cross_val score : 0.9321875\n"
     ]
    }
   ],
   "source": [
    "# Create a random dataset\n",
    "n_estimators = 10 # L in the text\n",
    "tree_max_depth = 10\n",
    "bagging_max_depth = 10\n",
    "\n",
    "for n_estimators in range(10,15):\n",
    "    clf = QuadraticDiscriminantAnalysis()\n",
    "    clf.fit(X_train, y_train)\n",
    "    bagging = BaggingClassifier(base_estimator=clf, n_estimators=n_estimators)\n",
    "    bagging.fit(X_train, y_train)\n",
    "\n",
    "    y_pred_train =  bagging.predict(X_train)\n",
    "    y_pred = clf.predict(X_test)\n",
    "\n",
    "    # Compute the score\n",
    "    score = compute_pred_score(y_train, y_pred_train)\n",
    "    print('Score sur le train : %s' % score)\n",
    "\n",
    "    scores_val = cross_val_score(clf, X_train, y_train)\n",
    "    print'Cross_val score : %s' % scores_val.mean() "
   ]
  },
  {
   "cell_type": "code",
   "execution_count": 10,
   "metadata": {
    "collapsed": false
   },
   "outputs": [
    {
     "name": "stdout",
     "output_type": "stream",
     "text": [
      "Score sur le train : 0.566382575758\n",
      "Cross_val score : 0.9321875\n"
     ]
    },
    {
     "data": {
      "text/plain": [
       "array([ 1, -1,  1, ...,  1,  1,  1])"
      ]
     },
     "execution_count": 10,
     "metadata": {},
     "output_type": "execute_result"
    }
   ],
   "source": [
    "#Quadratic Discriminant Analysis\n",
    "score_Classifier(QuadraticDiscriminantAnalysis())"
   ]
  },
  {
   "cell_type": "code",
   "execution_count": 8,
   "metadata": {
    "collapsed": false
   },
   "outputs": [
    {
     "name": "stdout",
     "output_type": "stream",
     "text": [
      "Score sur le train : 0.230303030303\n",
      "Time : 2128.71899986\n",
      "Score sur le train : 0.235132575758\n",
      "Time : 2143.48699999\n"
     ]
    }
   ],
   "source": [
    "#k-NN \n",
    "#for n_neighbors in [75, 85]:\n",
    "start = time.time()\n",
    "y_pred_75 = score_Classifier(KNeighborsClassifier(n_neighbors=75, n_jobs = -1))\n",
    "elapsed = (time.time() - start)\n",
    "print('Time : %s' % elapsed)\n",
    "\n",
    "start = time.time()\n",
    "y_pred_85 = score_Classifier(KNeighborsClassifier(n_neighbors=85, n_jobs = -1))\n",
    "elapsed = (time.time() - start)\n",
    "print('Time : %s' % elapsed)"
   ]
  },
  {
   "cell_type": "code",
   "execution_count": 7,
   "metadata": {
    "collapsed": false
   },
   "outputs": [],
   "source": [
    "np.savetxt('y_pred_test.txt', y_pred, fmt='%d')"
   ]
  },
  {
   "cell_type": "code",
   "execution_count": 13,
   "metadata": {
    "collapsed": false
   },
   "outputs": [],
   "source": [
    "np.savetxt('y_pred_test.txt', Y_PRED, fmt='%d')"
   ]
  },
  {
   "cell_type": "code",
   "execution_count": 14,
   "metadata": {
    "collapsed": false
   },
   "outputs": [
    {
     "data": {
      "text/plain": [
       "array([-1, -1,  1, ...,  1,  1,  1])"
      ]
     },
     "execution_count": 14,
     "metadata": {},
     "output_type": "execute_result"
    }
   ],
   "source": []
  },
  {
   "cell_type": "code",
   "execution_count": null,
   "metadata": {
    "collapsed": true
   },
   "outputs": [],
   "source": []
  }
 ],
 "metadata": {
  "anaconda-cloud": {},
  "kernelspec": {
   "display_name": "Python [default]",
   "language": "python",
   "name": "python2"
  },
  "language_info": {
   "codemirror_mode": {
    "name": "ipython",
    "version": 2
   },
   "file_extension": ".py",
   "mimetype": "text/x-python",
   "name": "python",
   "nbconvert_exporter": "python",
   "pygments_lexer": "ipython2",
   "version": "2.7.12"
  }
 },
 "nbformat": 4,
 "nbformat_minor": 1
}
